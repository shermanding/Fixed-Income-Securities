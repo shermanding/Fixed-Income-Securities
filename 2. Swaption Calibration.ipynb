{
 "cells": [
  {
   "cell_type": "code",
   "execution_count": 1,
   "metadata": {},
   "outputs": [],
   "source": [
    "import pandas as pd\n",
    "from scipy.stats import norm \n",
    "import numpy as np\n",
    "from scipy.optimize import brentq\n",
    "import matplotlib.pyplot as plt\n",
    "from scipy.optimize import least_squares\n",
    "from scipy import interpolate\n",
    "from scipy.interpolate import CubicSpline"
   ]
  },
  {
   "cell_type": "markdown",
   "metadata": {},
   "source": [
    "## Import Data"
   ]
  },
  {
   "cell_type": "code",
   "execution_count": 2,
   "metadata": {},
   "outputs": [],
   "source": [
    "swaption=pd.read_excel('IR Data.xlsx',sheet_name='Swaption',header=0,skiprows=2)\n",
    "swaption= swaption.iloc[0:15,0:13]\n",
    "swaption= swaption.set_index([\"Expiry\",\"Tenor\"])\n",
    "\n",
    "#import Q1 dataset\n",
    "ois = pd.read_csv(\"ois.csv\",index_col=0)\n",
    "ois = ois.rename(columns={'Tenor.1':'Tenor'})\n",
    "irs = pd.read_csv(\"irs.csv\",index_col=0)\n",
    "irs = irs.rename(columns={'Tenor.1':'Tenor'})\n",
    "forward_swap_rates = pd.read_csv(\"forward_swap_rates.csv\")"
   ]
  },
  {
   "cell_type": "code",
   "execution_count": 3,
   "metadata": {},
   "outputs": [],
   "source": [
    "strike_vol = pd.DataFrame(columns=['forward','tenor','strike','impl_vol'])\n",
    "Expiry=np.array([\"1Y\",\"5Y\",\"10Y\"])\n",
    "Tenor=np.array([\"1Y\",\"2Y\",\"3Y\",\"5Y\",\"10Y\"])\n",
    "s=np.array([-200,-150,-100,-50,-25,0,25,50,100,150,200])"
   ]
  },
  {
   "cell_type": "code",
   "execution_count": 4,
   "metadata": {},
   "outputs": [],
   "source": [
    "strike_vol = pd.DataFrame(columns=['expiry','tenor','forward','strike','impl_vol','type'])\n",
    "m=0\n",
    "for index,row in forward_swap_rates.iterrows():\n",
    "    n=0\n",
    "    for i in swaption.iloc[[m]]:\n",
    "        if (n>=5):\n",
    "            new_row = {\"expiry\":row['forward'],\"tenor\":row['tenor'],\"forward\":row['forward_swap_rate'],\"strike\":(row['forward_swap_rate']+(s[n]/10000)),\"impl_vol\":swaption.iloc[[m]][i].values[0],'type':'pay'}\n",
    "            n+=1\n",
    "        else:\n",
    "            new_row = {\"expiry\":row['forward'],\"tenor\":row['tenor'],\"forward\":row['forward_swap_rate'],\"strike\":(row['forward_swap_rate']+(s[n]/10000)),\"impl_vol\":swaption.iloc[[m]][i].values[0],'type':'rec'}\n",
    "            n+=1\n",
    "        strike_vol = strike_vol.append(new_row,ignore_index=True)\n",
    "    m+=1"
   ]
  },
  {
   "cell_type": "code",
   "execution_count": 5,
   "metadata": {},
   "outputs": [],
   "source": [
    "def PVBP(expiry,tenor,coupon_period=0.5):\n",
    "    i=expiry\n",
    "    j=tenor\n",
    "    sum_of_df_fixed = ois.loc[(ois.index>i)&(ois.index<=i+j)]['Do'].sum()\n",
    "\n",
    "    return float((coupon_period*sum_of_df_fixed))"
   ]
  },
  {
   "cell_type": "markdown",
   "metadata": {},
   "source": [
    "## Displace Diffusion Calibration"
   ]
  },
  {
   "cell_type": "code",
   "execution_count": 6,
   "metadata": {},
   "outputs": [],
   "source": [
    "def DisplacedDiffusion( F, K, sigma, expiry, tenor, Beta, Option_type):\n",
    "    if Beta == 0:\n",
    "        d1 = (K - F) / (sigma*F*np.sqrt(expiry))\n",
    "        if Option_type == 'pay':\n",
    "            return PVBP(expiry,tenor)*((F - K)*norm.cdf(-d1) + (sigma*F*np.sqrt(expiry)*norm.pdf(-d1)))\n",
    "        elif Option_type == 'rec':\n",
    "            return PVBP(expiry,tenor)*((K - F)*norm.cdf(d1) + (sigma*F*np.sqrt(expiry)*norm.pdf(d1)))\n",
    "\n",
    "    else:\n",
    "        d1 = (np.log((K*Beta/F) + 1 - Beta) + (0.5*(sigma**2)*(Beta**2)*expiry)) / (sigma*Beta*np.sqrt(expiry))\n",
    "        d2 = d1-(sigma*Beta*np.sqrt(expiry))\n",
    "        if Option_type == 'pay':\n",
    "            return PVBP(expiry,tenor)*((F/Beta*norm.cdf(-d2)) - (((1-Beta)/Beta)*F + K)*norm.cdf(-d1))\n",
    "        elif Option_type == 'rec':\n",
    "            return PVBP(expiry,tenor)*(((1-Beta)/Beta*F + K)*norm.cdf(d1) - F/Beta*norm.cdf(d2))\n"
   ]
  },
  {
   "cell_type": "code",
   "execution_count": 7,
   "metadata": {},
   "outputs": [],
   "source": [
    "def DD_Calibration(x,ATM,strikes,expiry,tenor,vols,types):\n",
    "    err=0.0\n",
    "    for k,vol,type in zip(range(len(strikes)), vols, types):\n",
    "        discounted_price1 = DisplacedDiffusion(ATM, strikes[k], vol, expiry, tenor, 1, type) \n",
    "        discounted_price2 = DisplacedDiffusion(ATM, strikes[k], x[0], expiry, tenor, x[1], type)\n",
    "        err += (discounted_price1 - discounted_price2)**2\n",
    "    return err\n",
    "\n",
    "initialGuess_DD=[0.5,0.2]"
   ]
  },
  {
   "cell_type": "code",
   "execution_count": 8,
   "metadata": {},
   "outputs": [],
   "source": [
    "expiries = [1,5,10]\n",
    "tenors = [1,2,3,5,10]\n",
    "beta_calibrated=pd.DataFrame(np.zeros((3,5)),index=expiries,columns=tenors)\n",
    "sigma_calibrated=pd.DataFrame(np.zeros((3,5)),index=expiries,columns=tenors)"
   ]
  },
  {
   "cell_type": "code",
   "execution_count": 9,
   "metadata": {},
   "outputs": [
    {
     "name": "stdout",
     "output_type": "stream",
     "text": [
      "Sigma\n",
      "          1         2         3         5         10\n",
      "1   0.403513  0.364004  0.333004  0.290867  0.252750\n",
      "5   0.307372  0.312846  0.308549  0.269958  0.247289\n",
      "10  0.300011  0.297105  0.294438  0.265706  0.242692\n",
      "Beta\n",
      "          1         2         3         5         10\n",
      "1   0.199525  0.199182  0.199020  0.199484  0.200038\n",
      "5   0.198502  0.198071  0.365665  0.345178  0.341136\n",
      "10  0.693502  0.254469  0.233068  0.293269  0.264678\n"
     ]
    }
   ],
   "source": [
    "for i in expiries:\n",
    "    for j in tenors:\n",
    "        new_strike_vol = strike_vol[(strike_vol['expiry']==i)&(strike_vol['tenor']==j)]\n",
    "        strikes = new_strike_vol['strike'].values\n",
    "        ATM = strikes[5]\n",
    "        types = new_strike_vol['type'].values\n",
    "        vols = new_strike_vol['impl_vol'].values/100\n",
    "        res = least_squares(lambda x: DD_Calibration(x,\n",
    "                                          ATM,\n",
    "                                          strikes,\n",
    "                                          i,   \n",
    "                                          j,\n",
    "                                          vols,\n",
    "                                          types\n",
    "                                          ),\n",
    "                                          initialGuess_DD,\n",
    "                                          bounds=([0,0],[np.inf,1]))\n",
    "        beta_calibrated[j][i]= res.x[1]\n",
    "        sigma_calibrated[j][i]=res.x[0]\n",
    "\n",
    "print('Sigma')\n",
    "print(sigma_calibrated)\n",
    "\n",
    "print('Beta')\n",
    "print(beta_calibrated)"
   ]
  },
  {
   "cell_type": "code",
   "execution_count": 30,
   "metadata": {},
   "outputs": [],
   "source": [
    "beta_calibrated.to_csv(\"beta_calibrated.csv\")\n",
    "sigma_calibrated.to_csv(\"sigma_calibrated.csv\")"
   ]
  },
  {
   "cell_type": "markdown",
   "metadata": {},
   "source": [
    "## Displace Diffusion Interpolation"
   ]
  },
  {
   "cell_type": "code",
   "execution_count": 10,
   "metadata": {},
   "outputs": [],
   "source": [
    "expiries_interpolated = [1,2,3,4,5,6,7,8,9,10]\n",
    "sigma_interpolated = pd.DataFrame(np.zeros((10,5)),index=expiries_interpolated,columns=tenors)\n",
    "beta_interpolated =pd.DataFrame(np.zeros((10,5)),index=expiries_interpolated,columns=tenors)"
   ]
  },
  {
   "cell_type": "code",
   "execution_count": 11,
   "metadata": {},
   "outputs": [],
   "source": [
    "for j in tenors:\n",
    "    y_beta = beta_calibrated[j].values.tolist()\n",
    "    y_sigma = sigma_calibrated[j].values.tolist()\n",
    "    x = expiries\n",
    "    \n",
    "    cs_beta = CubicSpline(x, y_beta, extrapolate=True)\n",
    "    cs_sigma = CubicSpline(x, y_sigma, extrapolate=True)\n",
    "    for i in expiries_interpolated:\n",
    "        try:\n",
    "            beta_interpolated[j][i] = beta_calibrated[j][i]\n",
    "            sigma_interpolated[j][i] = sigma_calibrated[j][i]\n",
    "        except:\n",
    "            beta_interpolated[j][i]=cs_beta(i)\n",
    "            sigma_interpolated[j][i]=cs_sigma(i)"
   ]
  },
  {
   "cell_type": "code",
   "execution_count": 12,
   "metadata": {},
   "outputs": [],
   "source": [
    "# beta_interpolated.to_pickle('beta_interpolated.pickle')\n",
    "# sigma_interpolated.to_pickle('sigma_interpolated.pickle')"
   ]
  },
  {
   "cell_type": "markdown",
   "metadata": {},
   "source": [
    "## SABR Calibration"
   ]
  },
  {
   "cell_type": "code",
   "execution_count": 12,
   "metadata": {},
   "outputs": [],
   "source": [
    "def SABR(F, K, T, alpha, beta, rho, nu):\n",
    "    X = K\n",
    "    if F == K:\n",
    "        numer1 = (((1 - beta)**2)/24)*alpha*alpha/(F**(2 - 2*beta))\n",
    "        numer2 = 0.25*rho*beta*nu*alpha/(F**(1 - beta))\n",
    "        numer3 = ((2 - 3*rho*rho)/24)*nu*nu\n",
    "        VolAtm = alpha*(1 + (numer1 + numer2 + numer3)*T)/(F**(1-beta))\n",
    "        sabrsigma = VolAtm\n",
    "    else:\n",
    "        z = (nu/alpha)*((F*X)**(0.5*(1-beta)))*np.log(F/X)\n",
    "        zhi = np.log((((1 - 2*rho*z + z*z)**0.5) + z - rho)/(1 - rho))\n",
    "        numer1 = (((1 - beta)**2)/24)*((alpha*alpha)/((F*X)**(1 - beta)))\n",
    "        numer2 = 0.25*rho*beta*nu*alpha/((F*X)**((1 - beta)/2))\n",
    "        numer3 = ((2 - 3*rho*rho)/24)*nu*nu\n",
    "        numer = alpha*(1 + (numer1 + numer2 + numer3)*T)*z\n",
    "        denom1 = ((1 - beta)**2/24)*(np.log(F/X))**2\n",
    "        denom2 = (((1 - beta)**4)/1920)*((np.log(F/X))**4)\n",
    "        denom = ((F*X)**((1 - beta)/2))*(1 + denom1 + denom2)*zhi\n",
    "        sabrsigma = numer/denom\n",
    "    return sabrsigma\n"
   ]
  },
  {
   "cell_type": "code",
   "execution_count": 13,
   "metadata": {},
   "outputs": [],
   "source": [
    "def sabr_calibration(x, strikes, vols, F, T):\n",
    "    err = 0.0\n",
    "    for i, vol in enumerate(vols):\n",
    "        err += (vol - SABR(F, strikes[i], T,\n",
    "                           x[0], 0.9, x[1], x[2]))**2\n",
    "    return err"
   ]
  },
  {
   "cell_type": "code",
   "execution_count": 14,
   "metadata": {},
   "outputs": [],
   "source": [
    "SABR_Alpha=pd.DataFrame(np.zeros((3,5)),index=expiries,columns=tenors)\n",
    "SABR_Rho=pd.DataFrame(np.zeros((3,5)),index=expiries,columns=tenors)\n",
    "SABR_Nu=pd.DataFrame(np.zeros((3,5)),index=expiries,columns=tenors)"
   ]
  },
  {
   "cell_type": "code",
   "execution_count": 15,
   "metadata": {},
   "outputs": [
    {
     "name": "stdout",
     "output_type": "stream",
     "text": [
      "Alpha\n",
      "          1         2         3         5         10\n",
      "1   0.139066  0.184648  0.196850  0.178045  0.171016\n",
      "5   0.166485  0.199501  0.210353  0.191054  0.177187\n",
      "10  0.177498  0.195424  0.206884  0.201900  0.181174\n",
      "Rho\n",
      "          1         2         3         5         10\n",
      "1  -0.633239 -0.525106 -0.482838 -0.414385 -0.264052\n",
      "5  -0.584922 -0.546875 -0.549788 -0.511244 -0.438524\n",
      "10 -0.545406 -0.544690 -0.549852 -0.563508 -0.511984\n",
      "Nu\n",
      "          1         2         3         5         10\n",
      "1   2.049463  1.677344  1.438095  1.064930  0.778611\n",
      "5   1.339204  1.061894  0.936663  0.671505  0.495665\n",
      "10  1.006104  0.925096  0.867641  0.719476  0.577374\n"
     ]
    }
   ],
   "source": [
    "initialGuess_sabr=[0.1,-0.5,0.5]\n",
    "\n",
    "for i in expiries:\n",
    "    for j in tenors:\n",
    "        new_strike_vol = strike_vol[(strike_vol['expiry']==i)&(strike_vol['tenor']==j)]\n",
    "        strikes = new_strike_vol['strike'].values\n",
    "        ATM = strikes[5]\n",
    "        vols = new_strike_vol['impl_vol'].values/100\n",
    "\n",
    "        res=least_squares(lambda x: sabr_calibration(x,\n",
    "                                           strikes,\n",
    "                                           vols,\n",
    "                                           ATM,\n",
    "                                           i),\n",
    "                          initialGuess_sabr,\n",
    "                          bounds=([0,-1,0],[np.inf,1,np.inf]))\n",
    "        SABR_Alpha[j][i]=res.x[0]\n",
    "        SABR_Rho[j][i]=res.x[1]\n",
    "        SABR_Nu[j][i]=res.x[2]\n",
    "\n",
    "print('Alpha')\n",
    "print(SABR_Alpha)\n",
    "print('Rho')\n",
    "print(SABR_Rho)\n",
    "print('Nu')\n",
    "print(SABR_Nu)\n"
   ]
  },
  {
   "cell_type": "code",
   "execution_count": 31,
   "metadata": {},
   "outputs": [],
   "source": [
    "SABR_Alpha.to_csv(\"SABR_Alpha.csv\")\n",
    "SABR_Nu.to_csv(\"SABR_Nu.csv\")\n",
    "SABR_Rho.to_csv(\"SABR_Rho.csv\")"
   ]
  },
  {
   "cell_type": "markdown",
   "metadata": {},
   "source": [
    "## SABR Interpolation"
   ]
  },
  {
   "cell_type": "code",
   "execution_count": 16,
   "metadata": {},
   "outputs": [],
   "source": [
    "tenor_full_range = [1,2,3,5,10]\n",
    "forward_full_range = []\n",
    "for i in range(40):\n",
    "    i+=1\n",
    "    forward_full_range.append(i/4)"
   ]
  },
  {
   "cell_type": "code",
   "execution_count": 17,
   "metadata": {},
   "outputs": [],
   "source": [
    "SABR_Alpha_full=pd.DataFrame(np.zeros((40,5)),index=forward_full_range,columns=tenor_full_range)\n",
    "SABR_Rho_full=pd.DataFrame(np.zeros((40,5)),index=forward_full_range,columns=tenor_full_range)\n",
    "SABR_Nu_full=pd.DataFrame(np.zeros((40,5)),index=forward_full_range,columns=tenor_full_range)"
   ]
  },
  {
   "cell_type": "code",
   "execution_count": 18,
   "metadata": {},
   "outputs": [],
   "source": [
    "for j in tenor_full_range:\n",
    "    y_alpha = SABR_Alpha[j].values.tolist()\n",
    "    x_alpha = SABR_Alpha.index.tolist()\n",
    "    y_rho = SABR_Rho[j].values.tolist()\n",
    "    x_rho = SABR_Rho.index.tolist()\n",
    "    y_nu = SABR_Nu[j].values.tolist()\n",
    "    x_nu = SABR_Nu.index.tolist()\n",
    "    cs_alpha = CubicSpline(x_alpha, y_alpha, extrapolate=True)\n",
    "    cs_rho = CubicSpline(x_rho, y_rho, extrapolate=True)\n",
    "    cs_nu = CubicSpline(x_nu, y_nu, extrapolate=True)\n",
    "    for i in forward_full_range:\n",
    "        try:\n",
    "            SABR_Alpha_full[j][i] = SABR_Alpha[j][i]\n",
    "            SABR_Rho_full[j][i] = SABR_Rho[j][i]\n",
    "            SABR_Nu_full[j][i] = SABR_Nu[j][i]\n",
    "        except:\n",
    "            SABR_Alpha_full[j][i]=cs_alpha(i)\n",
    "            SABR_Rho_full[j][i]=cs_rho(i)\n",
    "            SABR_Nu_full[j][i]=cs_nu(i)"
   ]
  },
  {
   "cell_type": "code",
   "execution_count": 19,
   "metadata": {},
   "outputs": [],
   "source": [
    "def par_swap(expiry,tenor):\n",
    "    i=expiry\n",
    "    j=tenor\n",
    "    sum_of_df_fixed = ois.loc[(ois.index>i)&(ois.index<=i+j)]['Do'].sum()\n",
    "    sum_of_do_li = 0\n",
    "    for k in range(int(j*2)):\n",
    "        k=k/2+0.5\n",
    "        sum_of_do_li += ois.loc[ois.index==i+k]['Do'].sum()*irs.loc[irs.index==i+k]['Li'].sum()\n",
    "\n",
    "    return sum_of_do_li/sum_of_df_fixed"
   ]
  },
  {
   "cell_type": "markdown",
   "metadata": {},
   "source": [
    "#  Payer 2y x 10 y"
   ]
  },
  {
   "cell_type": "code",
   "execution_count": 20,
   "metadata": {},
   "outputs": [],
   "source": [
    "payer_expiry = 2\n",
    "payer_tenor = 10"
   ]
  },
  {
   "cell_type": "code",
   "execution_count": 21,
   "metadata": {},
   "outputs": [
    {
     "data": {
      "text/plain": [
       "[0.01, 0.02, 0.03, 0.04, 0.05, 0.06, 0.07, 0.08]"
      ]
     },
     "execution_count": 21,
     "metadata": {},
     "output_type": "execute_result"
    }
   ],
   "source": [
    "strikes = []\n",
    "for i in range(8):\n",
    "    strikes.append((i+1)/100)\n",
    "strikes"
   ]
  },
  {
   "cell_type": "markdown",
   "metadata": {},
   "source": [
    "### DD model"
   ]
  },
  {
   "cell_type": "code",
   "execution_count": 22,
   "metadata": {},
   "outputs": [],
   "source": [
    "payer_beta = beta_interpolated[payer_tenor][payer_expiry]\n",
    "payer_sigma = sigma_interpolated[payer_tenor][payer_expiry]\n",
    "payer_F = par_swap(payer_expiry,payer_tenor)\n",
    "\n",
    "payer_DD = []\n",
    "for K in strikes:\n",
    "    payer_DD.append(DisplacedDiffusion(payer_F, K, payer_sigma, payer_expiry, payer_tenor, payer_beta, \"pay\"))"
   ]
  },
  {
   "cell_type": "markdown",
   "metadata": {},
   "source": [
    "### SABR Model"
   ]
  },
  {
   "cell_type": "code",
   "execution_count": 23,
   "metadata": {
    "scrolled": false
   },
   "outputs": [],
   "source": [
    "payer_alpha = SABR_Alpha_full[payer_tenor][payer_expiry]\n",
    "payer_rho = SABR_Rho_full[payer_tenor][payer_expiry]\n",
    "payer_nu = SABR_Nu_full[payer_tenor][payer_expiry]\n",
    "\n",
    "payer_SABR = []\n",
    "for K in strikes:\n",
    "    payer_SABR.append(DisplacedDiffusion(payer_F,K,SABR(payer_F,K,payer_expiry,payer_alpha,0.9,payer_rho,payer_nu),payer_expiry,payer_tenor,1,\"pay\"))"
   ]
  },
  {
   "cell_type": "code",
   "execution_count": 24,
   "metadata": {},
   "outputs": [
    {
     "data": {
      "text/html": [
       "<div>\n",
       "<style scoped>\n",
       "    .dataframe tbody tr th:only-of-type {\n",
       "        vertical-align: middle;\n",
       "    }\n",
       "\n",
       "    .dataframe tbody tr th {\n",
       "        vertical-align: top;\n",
       "    }\n",
       "\n",
       "    .dataframe thead th {\n",
       "        text-align: right;\n",
       "    }\n",
       "</style>\n",
       "<table border=\"1\" class=\"dataframe\">\n",
       "  <thead>\n",
       "    <tr style=\"text-align: right;\">\n",
       "      <th></th>\n",
       "      <th>SABR</th>\n",
       "      <th>DD</th>\n",
       "    </tr>\n",
       "  </thead>\n",
       "  <tbody>\n",
       "    <tr>\n",
       "      <th>1%</th>\n",
       "      <td>0.289538</td>\n",
       "      <td>0.288039</td>\n",
       "    </tr>\n",
       "    <tr>\n",
       "      <th>2%</th>\n",
       "      <td>0.197941</td>\n",
       "      <td>0.194383</td>\n",
       "    </tr>\n",
       "    <tr>\n",
       "      <th>3%</th>\n",
       "      <td>0.114767</td>\n",
       "      <td>0.112193</td>\n",
       "    </tr>\n",
       "    <tr>\n",
       "      <th>4%</th>\n",
       "      <td>0.051919</td>\n",
       "      <td>0.052785</td>\n",
       "    </tr>\n",
       "    <tr>\n",
       "      <th>5%</th>\n",
       "      <td>0.020918</td>\n",
       "      <td>0.019697</td>\n",
       "    </tr>\n",
       "    <tr>\n",
       "      <th>6%</th>\n",
       "      <td>0.010110</td>\n",
       "      <td>0.005802</td>\n",
       "    </tr>\n",
       "    <tr>\n",
       "      <th>7%</th>\n",
       "      <td>0.005992</td>\n",
       "      <td>0.001364</td>\n",
       "    </tr>\n",
       "    <tr>\n",
       "      <th>8%</th>\n",
       "      <td>0.004060</td>\n",
       "      <td>0.000261</td>\n",
       "    </tr>\n",
       "  </tbody>\n",
       "</table>\n",
       "</div>"
      ],
      "text/plain": [
       "        SABR        DD\n",
       "1%  0.289538  0.288039\n",
       "2%  0.197941  0.194383\n",
       "3%  0.114767  0.112193\n",
       "4%  0.051919  0.052785\n",
       "5%  0.020918  0.019697\n",
       "6%  0.010110  0.005802\n",
       "7%  0.005992  0.001364\n",
       "8%  0.004060  0.000261"
      ]
     },
     "execution_count": 24,
     "metadata": {},
     "output_type": "execute_result"
    }
   ],
   "source": [
    "strikes_percent = []\n",
    "for K in strikes:\n",
    "    strikes_percent.append(str(int(K*100))+\"%\")\n",
    "payer_price_df = pd.DataFrame(index=strikes_percent,columns=['SABR','DD'])\n",
    "payer_price_df['SABR']=payer_SABR\n",
    "payer_price_df['DD']=payer_DD\n",
    "payer_price_df"
   ]
  },
  {
   "cell_type": "markdown",
   "metadata": {},
   "source": [
    "#  Receiver 8y x 10 y"
   ]
  },
  {
   "cell_type": "code",
   "execution_count": 25,
   "metadata": {},
   "outputs": [],
   "source": [
    "rec_expiry = 8\n",
    "rec_tenor = 10"
   ]
  },
  {
   "cell_type": "markdown",
   "metadata": {},
   "source": [
    "### DD Model"
   ]
  },
  {
   "cell_type": "code",
   "execution_count": 26,
   "metadata": {},
   "outputs": [],
   "source": [
    "rec_beta = beta_interpolated[rec_tenor][rec_expiry]\n",
    "rec_sigma = sigma_interpolated[rec_tenor][rec_expiry]\n",
    "rec_F = par_swap(rec_expiry,rec_tenor)\n",
    "\n",
    "rec_DD = []\n",
    "for K in strikes:\n",
    "    rec_DD.append(DisplacedDiffusion(rec_F, K, rec_sigma, rec_expiry, rec_tenor, rec_beta, \"rec\"))"
   ]
  },
  {
   "cell_type": "markdown",
   "metadata": {},
   "source": [
    "### SABR Model"
   ]
  },
  {
   "cell_type": "code",
   "execution_count": 27,
   "metadata": {},
   "outputs": [],
   "source": [
    "rec_alpha = SABR_Alpha_full[rec_tenor][rec_expiry]\n",
    "rec_rho = SABR_Rho_full[rec_tenor][rec_expiry]\n",
    "rec_nu = SABR_Nu_full[rec_tenor][rec_expiry]\n",
    "\n",
    "rec_SABR = []\n",
    "for K in strikes:\n",
    "    rec_SABR.append(DisplacedDiffusion(rec_F,K,SABR(rec_F,K,rec_expiry,rec_alpha,0.9,rec_rho,rec_nu),rec_expiry,rec_tenor,1,\"rec\"))"
   ]
  },
  {
   "cell_type": "code",
   "execution_count": 28,
   "metadata": {},
   "outputs": [
    {
     "data": {
      "text/html": [
       "<div>\n",
       "<style scoped>\n",
       "    .dataframe tbody tr th:only-of-type {\n",
       "        vertical-align: middle;\n",
       "    }\n",
       "\n",
       "    .dataframe tbody tr th {\n",
       "        vertical-align: top;\n",
       "    }\n",
       "\n",
       "    .dataframe thead th {\n",
       "        text-align: right;\n",
       "    }\n",
       "</style>\n",
       "<table border=\"1\" class=\"dataframe\">\n",
       "  <thead>\n",
       "    <tr style=\"text-align: right;\">\n",
       "      <th></th>\n",
       "      <th>SABR</th>\n",
       "      <th>DD</th>\n",
       "    </tr>\n",
       "  </thead>\n",
       "  <tbody>\n",
       "    <tr>\n",
       "      <th>1%</th>\n",
       "      <td>0.015851</td>\n",
       "      <td>0.011497</td>\n",
       "    </tr>\n",
       "    <tr>\n",
       "      <th>2%</th>\n",
       "      <td>0.034005</td>\n",
       "      <td>0.026047</td>\n",
       "    </tr>\n",
       "    <tr>\n",
       "      <th>3%</th>\n",
       "      <td>0.056982</td>\n",
       "      <td>0.050307</td>\n",
       "    </tr>\n",
       "    <tr>\n",
       "      <th>4%</th>\n",
       "      <td>0.087386</td>\n",
       "      <td>0.085864</td>\n",
       "    </tr>\n",
       "    <tr>\n",
       "      <th>5%</th>\n",
       "      <td>0.128926</td>\n",
       "      <td>0.133068</td>\n",
       "    </tr>\n",
       "    <tr>\n",
       "      <th>6%</th>\n",
       "      <td>0.185074</td>\n",
       "      <td>0.191166</td>\n",
       "    </tr>\n",
       "    <tr>\n",
       "      <th>7%</th>\n",
       "      <td>0.255506</td>\n",
       "      <td>0.258676</td>\n",
       "    </tr>\n",
       "    <tr>\n",
       "      <th>8%</th>\n",
       "      <td>0.335874</td>\n",
       "      <td>0.333805</td>\n",
       "    </tr>\n",
       "  </tbody>\n",
       "</table>\n",
       "</div>"
      ],
      "text/plain": [
       "        SABR        DD\n",
       "1%  0.015851  0.011497\n",
       "2%  0.034005  0.026047\n",
       "3%  0.056982  0.050307\n",
       "4%  0.087386  0.085864\n",
       "5%  0.128926  0.133068\n",
       "6%  0.185074  0.191166\n",
       "7%  0.255506  0.258676\n",
       "8%  0.335874  0.333805"
      ]
     },
     "execution_count": 28,
     "metadata": {},
     "output_type": "execute_result"
    }
   ],
   "source": [
    "rec_price_df = pd.DataFrame(index=strikes_percent,columns=['SABR','DD'])\n",
    "rec_price_df['SABR']=rec_SABR\n",
    "rec_price_df['DD']=rec_DD\n",
    "rec_price_df"
   ]
  },
  {
   "cell_type": "code",
   "execution_count": 36,
   "metadata": {},
   "outputs": [],
   "source": [
    "# payer_price_df.to_csv(\"payer_price_df.csv\")\n",
    "# rec_price_df.to_csv(\"rec_price_df.csv\")"
   ]
  },
  {
   "cell_type": "code",
   "execution_count": 29,
   "metadata": {},
   "outputs": [],
   "source": [
    "def ImpliedVolDD_1(F,K,sigma,expiry,tenor,beta,type):\n",
    "    try:\n",
    "        impliedVol = brentq(lambda x: DisplacedDiffusion(F,K,sigma,expiry,tenor,beta,type) -\n",
    "                            DisplacedDiffusion(F, K, x, expiry, tenor, 1, type),\n",
    "                            1e-6, 10)\n",
    "    except Exception:\n",
    "        impliedVol = np.nan\n",
    "\n",
    "    return impliedVol"
   ]
  },
  {
   "cell_type": "code",
   "execution_count": 80,
   "metadata": {},
   "outputs": [
    {
     "data": {
      "image/png": "[encoded data removed]",
      "text/plain": [
       "<Figure size 1440x1440 with 5 Axes>"
      ]
     },
     "metadata": {
      "needs_background": "light"
     },
     "output_type": "display_data"
    },
    {
     "data": {
      "image/png": "[encoded data removed]",
      "text/plain": [
       "<Figure size 1440x1440 with 5 Axes>"
      ]
     },
     "metadata": {
      "needs_background": "light"
     },
     "output_type": "display_data"
    },
    {
     "data": {
      "image/png": "[encoded data removed]",
      "text/plain": [
       "<Figure size 1440x1440 with 5 Axes>"
      ]
     },
     "metadata": {
      "needs_background": "light"
     },
     "output_type": "display_data"
    }
   ],
   "source": [
    "initialGuess = 0.5\n",
    "ATM_vols_df = []\n",
    "\n",
    "for i in expiries:\n",
    "    \n",
    "    fig=plt.figure(figsize=(20,20))\n",
    "    ax=plt.axes()\n",
    "    ax=plt.title('Tenor=%s' %j)\n",
    "    u=0\n",
    "    for j in tenors:\n",
    "        \n",
    "        ax=plt.subplot(551+u)\n",
    "        u+=1\n",
    "        sabrvols = []\n",
    "        ddvols = []\n",
    "        strikes_list = []\n",
    "        types_list = []\n",
    "        \n",
    "\n",
    "        ATM = strike_vol[(strike_vol['expiry']==i)&(strike_vol['tenor']==j)]['forward'].to_list()[0]\n",
    "        strike_list=strike_vol[(strike_vol['expiry']==i)&(strike_vol['tenor']==j)]['strike']\n",
    "        beta_value = beta_calibrated[j][i]\n",
    "        Market_vols = strike_vol[(strike_vol['expiry']==i)&(strike_vol['tenor']==j)]['impl_vol'].to_list()\n",
    "        Market_vols = [number / 100 for number in Market_vols]\n",
    "        ATM_vols = strike_vol[(strike_vol['expiry']==i)&(strike_vol['tenor']==j)]['impl_vol'].to_list()[5]/100\n",
    "        type_list = strike_vol[(strike_vol['expiry']==i)&(strike_vol['tenor']==j)]['type']\n",
    "        ATM_strike=strike_vol[(strike_vol['expiry']==i)&(strike_vol['tenor']==j)]['strike'].to_list()[5]  \n",
    "        for n in range(400):\n",
    "            n=n/10000-(400/20000)\n",
    "            strikes_list.append(ATM_strike+n)\n",
    "            if n >= 0:\n",
    "                types_list.append('pay')\n",
    "            else:\n",
    "                types_list.append('rec') \n",
    "\n",
    "            \n",
    "        for K,type in zip(strikes_list,types_list):\n",
    "            sabrvols.append(SABR(ATM, K, i, SABR_Alpha[j][i], 0.9, SABR_Rho[j][i], SABR_Nu[j][i]))\n",
    "            ddvols.append(ImpliedVolDD_1(ATM, K, ATM_vols ,i, j, beta_value,type))\n",
    "            \n",
    "        #insert plot graphs here\n",
    "        ax=plt.plot(strike_list,Market_vols,color='black',marker='o',linestyle='None',label='Market Vol')\n",
    "        ax=plt.plot(strikes_list,sabrvols,color='blue',label='SABR Vol')\n",
    "        ax=plt.plot(strikes_list,ddvols,color='red',label='DD Vol')\n",
    "        ax=plt.title((i,j))\n",
    "        ax=plt.legend()\n",
    "    plt.savefig('%s'%i,dpi=100)\n",
    "    plt.show()\n"
   ]
  },
  {
   "cell_type": "code",
   "execution_count": null,
   "metadata": {},
   "outputs": [],
   "source": []
  }
 ],
 "metadata": {
  "kernelspec": {
   "display_name": "Python 3",
   "language": "python",
   "name": "python3"
  },
  "language_info": {
   "codemirror_mode": {
    "name": "ipython",
    "version": 3
   },
   "file_extension": ".py",
   "mimetype": "text/x-python",
   "name": "python",
   "nbconvert_exporter": "python",
   "pygments_lexer": "ipython3",
   "version": "3.9.7"
  }
 },
 "nbformat": 4,
 "nbformat_minor": 4
}
